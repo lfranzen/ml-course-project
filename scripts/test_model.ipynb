{
 "cells": [
  {
   "cell_type": "markdown",
   "metadata": {},
   "source": [
    "# Test model on test data"
   ]
  },
  {
   "cell_type": "code",
   "execution_count": 1,
   "metadata": {
    "ExecuteTime": {
     "end_time": "2020-08-30T19:34:35.636161Z",
     "start_time": "2020-08-30T19:34:34.192001Z"
    }
   },
   "outputs": [],
   "source": [
    "import numpy as np\n",
    "import pandas as pd\n",
    "import math\n",
    "import csv\n",
    "\n",
    "import matplotlib.pyplot as plt\n",
    "import seaborn as sns\n",
    "\n",
    "from IPython.display import display\n",
    "from inspect import getsourcefile\n",
    "import glob\n",
    "import os\n",
    "import os.path as osp\n",
    "\n",
    "import sklearn\n",
    "from sklearn import preprocessing\n",
    "from sklearn.ensemble import RandomForestClassifier\n",
    "from sklearn.metrics import matthews_corrcoef\n",
    "from sklearn.metrics import f1_score\n",
    "from sklearn.metrics import accuracy_score\n",
    "from sklearn.metrics import precision_recall_curve\n",
    "from sklearn.metrics import roc_auc_score, roc_curve\n",
    "\n",
    "from joblib import dump, load"
   ]
  },
  {
   "cell_type": "code",
   "execution_count": 2,
   "metadata": {
    "ExecuteTime": {
     "end_time": "2020-08-30T19:34:35.642341Z",
     "start_time": "2020-08-30T19:34:35.638178Z"
    }
   },
   "outputs": [
    {
     "name": "stdout",
     "output_type": "stream",
     "text": [
      " /Users/lovisa.franzen/Documents/Courses/ml_medbioinfo_2020/ml_project \n",
      " /Users/lovisa.franzen/Documents/Courses/ml_medbioinfo_2020/ml_project/data/her2st\n"
     ]
    }
   ],
   "source": [
    "DIR = '/'.join(osp.realpath(getsourcefile(lambda: 0)).split('/')[:-2])\n",
    "DIR_DATA = DIR + '/data/her2st'\n",
    "DIR_RES = DIR + '/results'\n",
    "print('', DIR, '\\n', DIR_DATA)"
   ]
  },
  {
   "cell_type": "markdown",
   "metadata": {},
   "source": [
    "## Read data and model"
   ]
  },
  {
   "cell_type": "markdown",
   "metadata": {},
   "source": [
    "### X"
   ]
  },
  {
   "cell_type": "code",
   "execution_count": 3,
   "metadata": {
    "ExecuteTime": {
     "end_time": "2020-08-30T19:34:40.470142Z",
     "start_time": "2020-08-30T19:34:35.644875Z"
    }
   },
   "outputs": [
    {
     "data": {
      "text/plain": [
       "(944, 12696)"
      ]
     },
     "execution_count": 3,
     "metadata": {},
     "output_type": "execute_result"
    }
   ],
   "source": [
    "test_df = pd.read_csv(os.path.join(DIR_DATA, 'test_df.tsv'), sep='\\t')\n",
    "test_df.shape"
   ]
  },
  {
   "cell_type": "code",
   "execution_count": 4,
   "metadata": {
    "ExecuteTime": {
     "end_time": "2020-08-30T19:34:40.477608Z",
     "start_time": "2020-08-30T19:34:40.472082Z"
    }
   },
   "outputs": [
    {
     "data": {
      "text/plain": [
       "['A1', 'B1', 'D1']"
      ]
     },
     "execution_count": 4,
     "metadata": {},
     "output_type": "execute_result"
    }
   ],
   "source": [
    "test_samples = test_df['sample_id'].unique().tolist()\n",
    "test_samples"
   ]
  },
  {
   "cell_type": "code",
   "execution_count": 5,
   "metadata": {
    "ExecuteTime": {
     "end_time": "2020-08-30T19:34:40.487641Z",
     "start_time": "2020-08-30T19:34:40.479209Z"
    }
   },
   "outputs": [
    {
     "data": {
      "text/plain": [
       "1517"
      ]
     },
     "execution_count": 5,
     "metadata": {},
     "output_type": "execute_result"
    }
   ],
   "source": [
    "fname = DIR_RES + '/train_features.csv'\n",
    "feats = pd.read_csv(fname, sep=',', header=None)\n",
    "features_use = feats.iloc[:,0].tolist()\n",
    "len(features_use)"
   ]
  },
  {
   "cell_type": "code",
   "execution_count": 6,
   "metadata": {
    "ExecuteTime": {
     "end_time": "2020-08-30T19:34:40.566203Z",
     "start_time": "2020-08-30T19:34:40.490676Z"
    }
   },
   "outputs": [
    {
     "data": {
      "text/plain": [
       "(944, 1517)"
      ]
     },
     "execution_count": 6,
     "metadata": {},
     "output_type": "execute_result"
    }
   ],
   "source": [
    "test_df_reduced = test_df.copy()\n",
    "test_df_reduced = test_df_reduced.loc[:, features_use]\n",
    "test_df_reduced.shape"
   ]
  },
  {
   "cell_type": "code",
   "execution_count": 7,
   "metadata": {
    "ExecuteTime": {
     "end_time": "2020-08-30T19:34:40.577906Z",
     "start_time": "2020-08-30T19:34:40.568098Z"
    }
   },
   "outputs": [],
   "source": [
    "X = np.array(test_df_reduced)"
   ]
  },
  {
   "cell_type": "markdown",
   "metadata": {},
   "source": [
    "### y"
   ]
  },
  {
   "cell_type": "code",
   "execution_count": 8,
   "metadata": {
    "ExecuteTime": {
     "end_time": "2020-08-30T19:34:40.585519Z",
     "start_time": "2020-08-30T19:34:40.581382Z"
    }
   },
   "outputs": [
    {
     "data": {
      "text/plain": [
       "['cancer', 'healthy']"
      ]
     },
     "execution_count": 8,
     "metadata": {},
     "output_type": "execute_result"
    }
   ],
   "source": [
    "le = preprocessing.LabelEncoder()\n",
    "le.fit(test_df['label_cancer'])\n",
    "list(le.classes_)"
   ]
  },
  {
   "cell_type": "code",
   "execution_count": 9,
   "metadata": {
    "ExecuteTime": {
     "end_time": "2020-08-30T19:34:40.591937Z",
     "start_time": "2020-08-30T19:34:40.587862Z"
    }
   },
   "outputs": [],
   "source": [
    "test_df['label_bin'] = le.transform(test_df['label_cancer'])"
   ]
  },
  {
   "cell_type": "code",
   "execution_count": 10,
   "metadata": {
    "ExecuteTime": {
     "end_time": "2020-08-30T19:34:40.609384Z",
     "start_time": "2020-08-30T19:34:40.594371Z"
    }
   },
   "outputs": [],
   "source": [
    "test_df['label'] = np.abs(test_df['label_bin']-1)"
   ]
  },
  {
   "cell_type": "code",
   "execution_count": 11,
   "metadata": {
    "ExecuteTime": {
     "end_time": "2020-08-30T19:34:40.615629Z",
     "start_time": "2020-08-30T19:34:40.611303Z"
    }
   },
   "outputs": [],
   "source": [
    "y = np.array(test_df['label'].tolist())"
   ]
  },
  {
   "cell_type": "markdown",
   "metadata": {},
   "source": [
    "### Model"
   ]
  },
  {
   "cell_type": "code",
   "execution_count": 12,
   "metadata": {
    "ExecuteTime": {
     "end_time": "2020-08-30T19:34:40.655872Z",
     "start_time": "2020-08-30T19:34:40.618032Z"
    }
   },
   "outputs": [
    {
     "data": {
      "text/plain": [
       "RandomForestClassifier(max_depth=10, min_samples_leaf=10, min_samples_split=100,\n",
       "                       n_jobs=-1, random_state=1337)"
      ]
     },
     "execution_count": 12,
     "metadata": {},
     "output_type": "execute_result"
    }
   ],
   "source": [
    "model_fname = DIR_RES+'/model_rf.joblib'\n",
    "clf = load(model_fname)\n",
    "clf"
   ]
  },
  {
   "cell_type": "markdown",
   "metadata": {},
   "source": [
    "## Use model on test data\n",
    "\n",
    "Use the final model to predict cancer labels on the test data"
   ]
  },
  {
   "cell_type": "code",
   "execution_count": 14,
   "metadata": {
    "ExecuteTime": {
     "end_time": "2020-08-30T19:34:59.641021Z",
     "start_time": "2020-08-30T19:34:59.258295Z"
    }
   },
   "outputs": [
    {
     "name": "stdout",
     "output_type": "stream",
     "text": [
      "A1\n",
      "Accuracy score: 0.8869565217391304\n",
      "F1 score: 0.9389671361502347\n",
      "MCC score: 0.29170451298439387\n",
      "B1\n",
      "Accuracy score: 0.931740614334471\n",
      "F1 score: 0.8507462686567164\n",
      "MCC score: 0.8091249174797942\n",
      "D1\n",
      "Accuracy score: 0.5130718954248366\n",
      "F1 score: 0.6494117647058824\n",
      "MCC score: 0.21470197784465905\n"
     ]
    }
   ],
   "source": [
    "test_samples = test_df['sample_id'].unique().tolist()\n",
    "\n",
    "res_test = dict()\n",
    "y_preds = dict()\n",
    "for sample_id in test_samples:\n",
    "    \n",
    "    print(sample_id)\n",
    "    sample_idx = test_df.loc[test_df['sample_id']==sample_id,:].index.tolist()\n",
    "    #print(len(sample_idx))\n",
    "    X_sample = X[sample_idx,:]\n",
    "    y_sample = y[sample_idx]\n",
    "    #print(X_sample.shape)\n",
    "    #print(len(y_sample))\n",
    "    \n",
    "    y_sample_pred = clf.predict(X_sample) \n",
    "    y_preds.update({sample_id:y_sample_pred})\n",
    "    \n",
    "    acc = accuracy_score(y_sample, y_sample_pred)\n",
    "    f1 = f1_score(y_sample, y_sample_pred)\n",
    "    mcc = matthews_corrcoef(y_sample, y_sample_pred)\n",
    "    \n",
    "    print(\"Accuracy score: %s\" % acc)\n",
    "    print(\"F1 score: %s\" % f1)\n",
    "    print(\"MCC score: %s\" % mcc)\n",
    "    \n",
    "    res_metrics = {'Accuracy':acc, 'F1':f1, 'MCC':mcc}\n",
    "    res_test.update({sample_id:res_metrics})"
   ]
  },
  {
   "cell_type": "code",
   "execution_count": 15,
   "metadata": {
    "ExecuteTime": {
     "end_time": "2020-08-30T19:35:00.991504Z",
     "start_time": "2020-08-30T19:35:00.986770Z"
    }
   },
   "outputs": [
    {
     "data": {
      "text/plain": [
       "{'A1': {'Accuracy': 0.8869565217391304,\n",
       "  'F1': 0.9389671361502347,\n",
       "  'MCC': 0.29170451298439387},\n",
       " 'B1': {'Accuracy': 0.931740614334471,\n",
       "  'F1': 0.8507462686567164,\n",
       "  'MCC': 0.8091249174797942},\n",
       " 'D1': {'Accuracy': 0.5130718954248366,\n",
       "  'F1': 0.6494117647058824,\n",
       "  'MCC': 0.21470197784465905}}"
      ]
     },
     "execution_count": 15,
     "metadata": {},
     "output_type": "execute_result"
    }
   ],
   "source": [
    "res_test"
   ]
  },
  {
   "cell_type": "code",
   "execution_count": 16,
   "metadata": {
    "ExecuteTime": {
     "end_time": "2020-08-30T19:35:03.330460Z",
     "start_time": "2020-08-30T19:35:03.078385Z"
    }
   },
   "outputs": [
    {
     "name": "stdout",
     "output_type": "stream",
     "text": [
      "A1\n",
      "B1\n",
      "D1\n"
     ]
    },
    {
     "data": {
      "image/png": "[encoded data removed]",
      "text/plain": [
       "<Figure size 720x288 with 3 Axes>"
      ]
     },
     "metadata": {
      "needs_background": "light"
     },
     "output_type": "display_data"
    }
   ],
   "source": [
    "sns.set_palette(\"Dark2\")\n",
    "legend_text=[]\n",
    "\n",
    "n_cols=3\n",
    "n_rows=1\n",
    "fig,ax = plt.subplots(n_rows,\n",
    "                      n_cols,\n",
    "                      figsize = (10, 4))\n",
    "fig.suptitle(\"Model evaluaion on test data\", y=1.05, size = 16)\n",
    "\n",
    "for x, sample_id in enumerate(res_test):\n",
    "    print(sample_id)\n",
    "    res_metrics = res_test[sample_id]\n",
    "    legend_text.append(sample_id)\n",
    "    for k, metric in enumerate(res_metrics):\n",
    "        #print(res_metrics[metric])\n",
    "        ax[k].bar(x, res_metrics[metric])\n",
    "        ax[k].set_xticks(range(0, len(legend_text)))\n",
    "        ax[k].set_xticklabels(legend_text, rotation=0)\n",
    "        ax[k].set_title(metric)\n",
    "        if metric == \"MCC\":\n",
    "            ax[k].set_ylim(-1, 1)\n",
    "        else:\n",
    "            ax[k].set_ylim(0, 1)\n",
    "plt.tight_layout()"
   ]
  },
  {
   "cell_type": "markdown",
   "metadata": {},
   "source": [
    "**Plot predictions spatially**"
   ]
  },
  {
   "cell_type": "code",
   "execution_count": 17,
   "metadata": {
    "ExecuteTime": {
     "end_time": "2020-08-30T19:35:05.762731Z",
     "start_time": "2020-08-30T19:35:05.737042Z"
    }
   },
   "outputs": [],
   "source": [
    "test_df_pred = test_df.copy()\n",
    "test_df_pred['label_preds'] = 0\n",
    "test_df_pred['y_inv'] = test_df_pred['y']*-1"
   ]
  },
  {
   "cell_type": "code",
   "execution_count": 18,
   "metadata": {
    "ExecuteTime": {
     "end_time": "2020-08-30T19:35:06.353659Z",
     "start_time": "2020-08-30T19:35:06.345493Z"
    }
   },
   "outputs": [],
   "source": [
    "for sample_id in test_samples:\n",
    "    test_df_pred.loc[test_df_pred['sample_id']==sample_id, 'label_preds'] = y_preds[sample_id].tolist()"
   ]
  },
  {
   "cell_type": "code",
   "execution_count": 19,
   "metadata": {
    "ExecuteTime": {
     "end_time": "2020-08-30T19:35:08.194764Z",
     "start_time": "2020-08-30T19:35:06.888529Z"
    },
    "scrolled": false
   },
   "outputs": [
    {
     "data": {
      "image/png": "[encoded data removed]",
      "text/plain": [
       "<Figure size 402.375x360 with 1 Axes>"
      ]
     },
     "metadata": {
      "needs_background": "light"
     },
     "output_type": "display_data"
    },
    {
     "data": {
      "image/png": "[encoded data removed]",
      "text/plain": [
       "<Figure size 425.125x360 with 1 Axes>"
      ]
     },
     "metadata": {
      "needs_background": "light"
     },
     "output_type": "display_data"
    },
    {
     "data": {
      "image/png": "[encoded data removed]",
      "text/plain": [
       "<Figure size 402.375x360 with 1 Axes>"
      ]
     },
     "metadata": {
      "needs_background": "light"
     },
     "output_type": "display_data"
    },
    {
     "data": {
      "image/png": "[encoded data removed]",
      "text/plain": [
       "<Figure size 425.125x360 with 1 Axes>"
      ]
     },
     "metadata": {
      "needs_background": "light"
     },
     "output_type": "display_data"
    },
    {
     "data": {
      "image/png": "[encoded data removed]",
      "text/plain": [
       "<Figure size 402.375x360 with 1 Axes>"
      ]
     },
     "metadata": {
      "needs_background": "light"
     },
     "output_type": "display_data"
    },
    {
     "data": {
      "image/png": "[encoded data removed]",
      "text/plain": [
       "<Figure size 425.125x360 with 1 Axes>"
      ]
     },
     "metadata": {
      "needs_background": "light"
     },
     "output_type": "display_data"
    }
   ],
   "source": [
    "for sample_id in test_samples:\n",
    "    d_plot = test_df_pred.loc[test_df_pred['sample_id']==sample_id, :].copy()\n",
    "    sns.set_palette(\"Set2\")\n",
    "\n",
    "    sns.pairplot(x_vars=[\"x\"], y_vars=[\"y_inv\"], data=d_plot, \n",
    "                 hue=\"label\", \n",
    "                 height=5,\n",
    "                 plot_kws=dict(s=70, edgecolor=\"grey\", linewidth=0, alpha=1)\n",
    "                )\n",
    "    plt.xlim(0, 35)\n",
    "    plt.ylim(-35, 0)\n",
    "    sns.despine(offset=10, trim=True);\n",
    "\n",
    "    sns.pairplot(x_vars=[\"x\"], y_vars=[\"y_inv\"], data=d_plot, \n",
    "                 hue=\"label_preds\", \n",
    "                 height=5,\n",
    "                 plot_kws=dict(s=70, edgecolor=\"grey\", linewidth=0, alpha=1)\n",
    "                )\n",
    "    plt.xlim(0, 35)\n",
    "    plt.ylim(-35, 0)\n",
    "    sns.despine(offset=10, trim=True);"
   ]
  },
  {
   "cell_type": "markdown",
   "metadata": {},
   "source": [
    "***"
   ]
  },
  {
   "cell_type": "code",
   "execution_count": 20,
   "metadata": {
    "ExecuteTime": {
     "end_time": "2020-08-30T19:35:08.424978Z",
     "start_time": "2020-08-30T19:35:08.421367Z"
    }
   },
   "outputs": [
    {
     "name": "stdout",
     "output_type": "stream",
     "text": [
      "Last update done: 2020-08-30 21:35:08.422635\n",
      "Lovisa Franzén\n"
     ]
    }
   ],
   "source": [
    "import datetime\n",
    "print('Last update done: ', datetime.datetime.now(), '\\n',\n",
    "     \"Lovisa Franzén\", sep='')"
   ]
  },
  {
   "cell_type": "markdown",
   "metadata": {},
   "source": [
    "***"
   ]
  }
 ],
 "metadata": {
  "kernelspec": {
   "display_name": "ml20_project",
   "language": "python",
   "name": "ml20_project"
  },
  "language_info": {
   "codemirror_mode": {
    "name": "ipython",
    "version": 3
   },
   "file_extension": ".py",
   "mimetype": "text/x-python",
   "name": "python",
   "nbconvert_exporter": "python",
   "pygments_lexer": "ipython3",
   "version": "3.6.10"
  }
 },
 "nbformat": 4,
 "nbformat_minor": 2
}
