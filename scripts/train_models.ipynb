{
 "cells": [
  {
   "cell_type": "markdown",
   "metadata": {},
   "source": [
    "# Train classifiers and evaluate"
   ]
  },
  {
   "cell_type": "markdown",
   "metadata": {},
   "source": [
    "The data set I have has labelled observations; each data point, \"spot\", has been annotated as either cancer or non-cancer by a pathologist. I will use the expression data to fit a model to these labels, and see whether accurate predictions can be made on new data.\n",
    "\n",
    "The labels have been binarized as either 'cancer' or 'healthy' to simplify the process, thus I will try different binary classifiers to perform the supervised learning.  \n",
    "\n",
    "Resources:  \n",
    "* https://en.wikipedia.org/wiki/Binary_classification\n",
    "* https://scikit-learn.org/stable/auto_examples/classification/plot_classifier_comparison.html\n",
    "\n",
    "<br>\n",
    "Classifiers of interest to try out:  \n",
    "\n",
    "* Logistic regression --- https://scikit-learn.org/stable/modules/generated/sklearn.linear_model.LogisticRegression.html\n",
    "* Random forest --- https://scikit-learn.org/stable/modules/generated/sklearn.ensemble.RandomForestClassifier.html\n",
    "* SVM --- https://scikit-learn.org/stable/modules/svm.html\n",
    "* Nearest neighbors --- https://scikit-learn.org/stable/modules/neighbors.html\n",
    "* Gaussian Naive Bayes --- https://scikit-learn.org/stable/modules/naive_bayes.html\n",
    "\n",
    "<br>\n",
    "\n",
    "When training and evaluating the model I will use cross validation (CV), with the approach to leave-one-out based on sample ID, in order to mimic how the model should be used for new test data. The method in scikit-learn that fits this purpose is the LeaveOneGroupOut approach: https://scikit-learn.org/stable/modules/generated/sklearn.model_selection.LeaveOneGroupOut.html"
   ]
  },
  {
   "cell_type": "markdown",
   "metadata": {},
   "source": [
    "## Set up"
   ]
  },
  {
   "cell_type": "code",
   "execution_count": 7,
   "metadata": {
    "ExecuteTime": {
     "end_time": "2020-08-27T07:56:19.397353Z",
     "start_time": "2020-08-27T07:56:19.393454Z"
    }
   },
   "outputs": [],
   "source": [
    "import numpy as np\n",
    "import pandas as pd\n",
    "import math\n",
    "import csv\n",
    "import matplotlib.pyplot as plt\n",
    "import seaborn as sns\n",
    "\n",
    "import glob\n",
    "import os\n",
    "import os.path as osp\n",
    "import argparse as arp\n",
    "import sys\n",
    "import warnings\n",
    "warnings.filterwarnings(\"ignore\")"
   ]
  },
  {
   "cell_type": "code",
   "execution_count": 8,
   "metadata": {
    "ExecuteTime": {
     "end_time": "2020-08-27T08:11:35.896774Z",
     "start_time": "2020-08-27T08:11:35.387741Z"
    }
   },
   "outputs": [],
   "source": [
    "import sklearn\n",
    "\n",
    "from sklearn import preprocessing\n",
    "from sklearn.preprocessing import MinMaxScaler\n",
    "\n",
    "from sklearn.ensemble import RandomForestClassifier\n",
    "from sklearn.tree import DecisionTreeClassifier\n",
    "from sklearn import svm\n",
    "from sklearn import linear_model\n",
    "from sklearn.linear_model import LogisticRegression\n",
    "from sklearn.neighbors import KNeighborsClassifier\n",
    "from sklearn.naive_bayes import GaussianNB\n",
    "\n",
    "from sklearn.model_selection import LeaveOneGroupOut\n",
    "from sklearn.model_selection import cross_val_score\n",
    "from sklearn.metrics import matthews_corrcoef\n",
    "from sklearn.metrics import f1_score\n",
    "from sklearn.metrics import accuracy_score\n",
    "from sklearn.metrics import precision_recall_curve\n",
    "from sklearn.metrics import roc_curve"
   ]
  },
  {
   "cell_type": "code",
   "execution_count": 2,
   "metadata": {
    "ExecuteTime": {
     "end_time": "2020-08-27T07:43:31.722774Z",
     "start_time": "2020-08-27T07:43:31.717188Z"
    }
   },
   "outputs": [
    {
     "name": "stdout",
     "output_type": "stream",
     "text": [
      " /Users/lovisa.franzen/Documents/Courses/ml_medbioinfo_2020/ml_project \n",
      " /Users/lovisa.franzen/Documents/Courses/ml_medbioinfo_2020/ml_project/data/her2st\n"
     ]
    }
   ],
   "source": [
    "DIR = '/'.join(osp.realpath(getsourcefile(lambda: 0)).split('/')[:-2])\n",
    "DIR_DATA = DIR + '/data/her2st'\n",
    "print('', DIR, '\\n', DIR_DATA)"
   ]
  },
  {
   "cell_type": "markdown",
   "metadata": {},
   "source": [
    "***"
   ]
  },
  {
   "cell_type": "markdown",
   "metadata": {},
   "source": [
    "## Train data"
   ]
  },
  {
   "cell_type": "markdown",
   "metadata": {},
   "source": [
    "### Read data"
   ]
  },
  {
   "cell_type": "code",
   "execution_count": 3,
   "metadata": {
    "ExecuteTime": {
     "end_time": "2020-08-27T07:44:43.056951Z",
     "start_time": "2020-08-27T07:44:31.700666Z"
    }
   },
   "outputs": [
    {
     "data": {
      "text/html": [
       "<div>\n",
       "<style scoped>\n",
       "    .dataframe tbody tr th:only-of-type {\n",
       "        vertical-align: middle;\n",
       "    }\n",
       "\n",
       "    .dataframe tbody tr th {\n",
       "        vertical-align: top;\n",
       "    }\n",
       "\n",
       "    .dataframe thead th {\n",
       "        text-align: right;\n",
       "    }\n",
       "</style>\n",
       "<table border=\"1\" class=\"dataframe\">\n",
       "  <thead>\n",
       "    <tr style=\"text-align: right;\">\n",
       "      <th></th>\n",
       "      <th>A2M</th>\n",
       "      <th>A4GALT</th>\n",
       "      <th>AAAS</th>\n",
       "      <th>AACS</th>\n",
       "      <th>AAED1</th>\n",
       "      <th>AAGAB</th>\n",
       "      <th>AAK1</th>\n",
       "      <th>AAMDC</th>\n",
       "      <th>AAMP</th>\n",
       "      <th>AAR2</th>\n",
       "      <th>...</th>\n",
       "      <th>ZYX</th>\n",
       "      <th>ZZEF1</th>\n",
       "      <th>ZZZ3</th>\n",
       "      <th>label_cancer</th>\n",
       "      <th>sample_id</th>\n",
       "      <th>spot_id</th>\n",
       "      <th>x</th>\n",
       "      <th>y</th>\n",
       "      <th>exp_sum</th>\n",
       "      <th>exp_mean</th>\n",
       "    </tr>\n",
       "  </thead>\n",
       "  <tbody>\n",
       "    <tr>\n",
       "      <th>0</th>\n",
       "      <td>0.2403</td>\n",
       "      <td>0.0000</td>\n",
       "      <td>0.0000</td>\n",
       "      <td>0.0</td>\n",
       "      <td>0.0000</td>\n",
       "      <td>0.0</td>\n",
       "      <td>0.3024</td>\n",
       "      <td>0.0</td>\n",
       "      <td>0.0000</td>\n",
       "      <td>0.0000</td>\n",
       "      <td>...</td>\n",
       "      <td>0.3200</td>\n",
       "      <td>0.0</td>\n",
       "      <td>0.0000</td>\n",
       "      <td>healthy</td>\n",
       "      <td>C1</td>\n",
       "      <td>10x16</td>\n",
       "      <td>10</td>\n",
       "      <td>16</td>\n",
       "      <td>868.647198</td>\n",
       "      <td>0.136903</td>\n",
       "    </tr>\n",
       "    <tr>\n",
       "      <th>1</th>\n",
       "      <td>0.5000</td>\n",
       "      <td>0.0000</td>\n",
       "      <td>0.0000</td>\n",
       "      <td>0.0</td>\n",
       "      <td>0.0000</td>\n",
       "      <td>0.0</td>\n",
       "      <td>0.0000</td>\n",
       "      <td>0.0</td>\n",
       "      <td>0.0000</td>\n",
       "      <td>0.0000</td>\n",
       "      <td>...</td>\n",
       "      <td>0.3329</td>\n",
       "      <td>0.0</td>\n",
       "      <td>0.0000</td>\n",
       "      <td>healthy</td>\n",
       "      <td>C1</td>\n",
       "      <td>10x17</td>\n",
       "      <td>10</td>\n",
       "      <td>17</td>\n",
       "      <td>563.050300</td>\n",
       "      <td>0.088739</td>\n",
       "    </tr>\n",
       "    <tr>\n",
       "      <th>2</th>\n",
       "      <td>0.0000</td>\n",
       "      <td>0.0000</td>\n",
       "      <td>1.0000</td>\n",
       "      <td>0.0</td>\n",
       "      <td>0.0000</td>\n",
       "      <td>0.0</td>\n",
       "      <td>0.0000</td>\n",
       "      <td>0.0</td>\n",
       "      <td>0.0000</td>\n",
       "      <td>0.0000</td>\n",
       "      <td>...</td>\n",
       "      <td>0.1724</td>\n",
       "      <td>0.0</td>\n",
       "      <td>0.8115</td>\n",
       "      <td>healthy</td>\n",
       "      <td>C1</td>\n",
       "      <td>10x18</td>\n",
       "      <td>10</td>\n",
       "      <td>18</td>\n",
       "      <td>781.124198</td>\n",
       "      <td>0.123109</td>\n",
       "    </tr>\n",
       "    <tr>\n",
       "      <th>3</th>\n",
       "      <td>0.0000</td>\n",
       "      <td>0.0000</td>\n",
       "      <td>0.0000</td>\n",
       "      <td>0.0</td>\n",
       "      <td>0.0000</td>\n",
       "      <td>0.0</td>\n",
       "      <td>0.0000</td>\n",
       "      <td>0.0</td>\n",
       "      <td>0.0000</td>\n",
       "      <td>0.0000</td>\n",
       "      <td>...</td>\n",
       "      <td>0.7742</td>\n",
       "      <td>0.0</td>\n",
       "      <td>0.0000</td>\n",
       "      <td>healthy</td>\n",
       "      <td>C1</td>\n",
       "      <td>10x19</td>\n",
       "      <td>10</td>\n",
       "      <td>19</td>\n",
       "      <td>669.868001</td>\n",
       "      <td>0.105574</td>\n",
       "    </tr>\n",
       "    <tr>\n",
       "      <th>4</th>\n",
       "      <td>0.2020</td>\n",
       "      <td>0.3115</td>\n",
       "      <td>0.0000</td>\n",
       "      <td>0.0</td>\n",
       "      <td>0.5501</td>\n",
       "      <td>0.0</td>\n",
       "      <td>0.0847</td>\n",
       "      <td>0.0</td>\n",
       "      <td>0.4099</td>\n",
       "      <td>0.2544</td>\n",
       "      <td>...</td>\n",
       "      <td>0.3138</td>\n",
       "      <td>0.0</td>\n",
       "      <td>0.4220</td>\n",
       "      <td>cancer</td>\n",
       "      <td>C1</td>\n",
       "      <td>10x20</td>\n",
       "      <td>10</td>\n",
       "      <td>20</td>\n",
       "      <td>998.524699</td>\n",
       "      <td>0.157372</td>\n",
       "    </tr>\n",
       "    <tr>\n",
       "      <th>...</th>\n",
       "      <td>...</td>\n",
       "      <td>...</td>\n",
       "      <td>...</td>\n",
       "      <td>...</td>\n",
       "      <td>...</td>\n",
       "      <td>...</td>\n",
       "      <td>...</td>\n",
       "      <td>...</td>\n",
       "      <td>...</td>\n",
       "      <td>...</td>\n",
       "      <td>...</td>\n",
       "      <td>...</td>\n",
       "      <td>...</td>\n",
       "      <td>...</td>\n",
       "      <td>...</td>\n",
       "      <td>...</td>\n",
       "      <td>...</td>\n",
       "      <td>...</td>\n",
       "      <td>...</td>\n",
       "      <td>...</td>\n",
       "      <td>...</td>\n",
       "    </tr>\n",
       "    <tr>\n",
       "      <th>2527</th>\n",
       "      <td>0.5060</td>\n",
       "      <td>0.0000</td>\n",
       "      <td>0.0000</td>\n",
       "      <td>0.0</td>\n",
       "      <td>0.0000</td>\n",
       "      <td>0.0</td>\n",
       "      <td>0.0000</td>\n",
       "      <td>0.0</td>\n",
       "      <td>0.0000</td>\n",
       "      <td>0.0000</td>\n",
       "      <td>...</td>\n",
       "      <td>0.1828</td>\n",
       "      <td>0.0</td>\n",
       "      <td>0.0000</td>\n",
       "      <td>cancer</td>\n",
       "      <td>H1</td>\n",
       "      <td>9x29</td>\n",
       "      <td>9</td>\n",
       "      <td>29</td>\n",
       "      <td>295.169100</td>\n",
       "      <td>0.046520</td>\n",
       "    </tr>\n",
       "    <tr>\n",
       "      <th>2528</th>\n",
       "      <td>0.0000</td>\n",
       "      <td>0.0000</td>\n",
       "      <td>0.0000</td>\n",
       "      <td>0.0</td>\n",
       "      <td>0.0000</td>\n",
       "      <td>0.0</td>\n",
       "      <td>0.0000</td>\n",
       "      <td>0.0</td>\n",
       "      <td>0.1494</td>\n",
       "      <td>0.0000</td>\n",
       "      <td>...</td>\n",
       "      <td>0.0000</td>\n",
       "      <td>0.0</td>\n",
       "      <td>0.0000</td>\n",
       "      <td>cancer</td>\n",
       "      <td>H1</td>\n",
       "      <td>9x30</td>\n",
       "      <td>9</td>\n",
       "      <td>30</td>\n",
       "      <td>284.137799</td>\n",
       "      <td>0.044781</td>\n",
       "    </tr>\n",
       "    <tr>\n",
       "      <th>2529</th>\n",
       "      <td>0.5036</td>\n",
       "      <td>0.0000</td>\n",
       "      <td>0.1766</td>\n",
       "      <td>0.0</td>\n",
       "      <td>0.0000</td>\n",
       "      <td>0.0</td>\n",
       "      <td>0.0000</td>\n",
       "      <td>0.0</td>\n",
       "      <td>0.3006</td>\n",
       "      <td>0.1460</td>\n",
       "      <td>...</td>\n",
       "      <td>0.0963</td>\n",
       "      <td>0.0</td>\n",
       "      <td>0.0000</td>\n",
       "      <td>cancer</td>\n",
       "      <td>H1</td>\n",
       "      <td>9x31</td>\n",
       "      <td>9</td>\n",
       "      <td>31</td>\n",
       "      <td>280.177000</td>\n",
       "      <td>0.044157</td>\n",
       "    </tr>\n",
       "    <tr>\n",
       "      <th>2530</th>\n",
       "      <td>0.2133</td>\n",
       "      <td>0.0000</td>\n",
       "      <td>0.0000</td>\n",
       "      <td>0.0</td>\n",
       "      <td>0.0000</td>\n",
       "      <td>0.0</td>\n",
       "      <td>0.0000</td>\n",
       "      <td>0.0</td>\n",
       "      <td>0.0000</td>\n",
       "      <td>0.0000</td>\n",
       "      <td>...</td>\n",
       "      <td>0.1156</td>\n",
       "      <td>0.0</td>\n",
       "      <td>0.0000</td>\n",
       "      <td>cancer</td>\n",
       "      <td>H1</td>\n",
       "      <td>9x32</td>\n",
       "      <td>9</td>\n",
       "      <td>32</td>\n",
       "      <td>221.716100</td>\n",
       "      <td>0.034943</td>\n",
       "    </tr>\n",
       "    <tr>\n",
       "      <th>2531</th>\n",
       "      <td>0.0000</td>\n",
       "      <td>0.0000</td>\n",
       "      <td>0.0000</td>\n",
       "      <td>0.0</td>\n",
       "      <td>0.0000</td>\n",
       "      <td>0.0</td>\n",
       "      <td>0.0000</td>\n",
       "      <td>0.0</td>\n",
       "      <td>0.0000</td>\n",
       "      <td>0.0000</td>\n",
       "      <td>...</td>\n",
       "      <td>0.0000</td>\n",
       "      <td>0.0</td>\n",
       "      <td>0.0000</td>\n",
       "      <td>cancer</td>\n",
       "      <td>H1</td>\n",
       "      <td>9x33</td>\n",
       "      <td>9</td>\n",
       "      <td>33</td>\n",
       "      <td>278.768100</td>\n",
       "      <td>0.043935</td>\n",
       "    </tr>\n",
       "  </tbody>\n",
       "</table>\n",
       "<p>2532 rows × 12696 columns</p>\n",
       "</div>"
      ],
      "text/plain": [
       "         A2M  A4GALT    AAAS  AACS   AAED1  AAGAB    AAK1  AAMDC    AAMP  \\\n",
       "0     0.2403  0.0000  0.0000   0.0  0.0000    0.0  0.3024    0.0  0.0000   \n",
       "1     0.5000  0.0000  0.0000   0.0  0.0000    0.0  0.0000    0.0  0.0000   \n",
       "2     0.0000  0.0000  1.0000   0.0  0.0000    0.0  0.0000    0.0  0.0000   \n",
       "3     0.0000  0.0000  0.0000   0.0  0.0000    0.0  0.0000    0.0  0.0000   \n",
       "4     0.2020  0.3115  0.0000   0.0  0.5501    0.0  0.0847    0.0  0.4099   \n",
       "...      ...     ...     ...   ...     ...    ...     ...    ...     ...   \n",
       "2527  0.5060  0.0000  0.0000   0.0  0.0000    0.0  0.0000    0.0  0.0000   \n",
       "2528  0.0000  0.0000  0.0000   0.0  0.0000    0.0  0.0000    0.0  0.1494   \n",
       "2529  0.5036  0.0000  0.1766   0.0  0.0000    0.0  0.0000    0.0  0.3006   \n",
       "2530  0.2133  0.0000  0.0000   0.0  0.0000    0.0  0.0000    0.0  0.0000   \n",
       "2531  0.0000  0.0000  0.0000   0.0  0.0000    0.0  0.0000    0.0  0.0000   \n",
       "\n",
       "        AAR2  ...     ZYX  ZZEF1    ZZZ3  label_cancer  sample_id  spot_id  \\\n",
       "0     0.0000  ...  0.3200    0.0  0.0000       healthy         C1    10x16   \n",
       "1     0.0000  ...  0.3329    0.0  0.0000       healthy         C1    10x17   \n",
       "2     0.0000  ...  0.1724    0.0  0.8115       healthy         C1    10x18   \n",
       "3     0.0000  ...  0.7742    0.0  0.0000       healthy         C1    10x19   \n",
       "4     0.2544  ...  0.3138    0.0  0.4220        cancer         C1    10x20   \n",
       "...      ...  ...     ...    ...     ...           ...        ...      ...   \n",
       "2527  0.0000  ...  0.1828    0.0  0.0000        cancer         H1     9x29   \n",
       "2528  0.0000  ...  0.0000    0.0  0.0000        cancer         H1     9x30   \n",
       "2529  0.1460  ...  0.0963    0.0  0.0000        cancer         H1     9x31   \n",
       "2530  0.0000  ...  0.1156    0.0  0.0000        cancer         H1     9x32   \n",
       "2531  0.0000  ...  0.0000    0.0  0.0000        cancer         H1     9x33   \n",
       "\n",
       "       x   y     exp_sum  exp_mean  \n",
       "0     10  16  868.647198  0.136903  \n",
       "1     10  17  563.050300  0.088739  \n",
       "2     10  18  781.124198  0.123109  \n",
       "3     10  19  669.868001  0.105574  \n",
       "4     10  20  998.524699  0.157372  \n",
       "...   ..  ..         ...       ...  \n",
       "2527   9  29  295.169100  0.046520  \n",
       "2528   9  30  284.137799  0.044781  \n",
       "2529   9  31  280.177000  0.044157  \n",
       "2530   9  32  221.716100  0.034943  \n",
       "2531   9  33  278.768100  0.043935  \n",
       "\n",
       "[2532 rows x 12696 columns]"
      ]
     },
     "execution_count": 3,
     "metadata": {},
     "output_type": "execute_result"
    }
   ],
   "source": [
    "train_df = pd.read_csv(os.path.join(DIR_DATA, 'train_df.tsv'), sep='\\t')\n",
    "train_df"
   ]
  },
  {
   "cell_type": "code",
   "execution_count": 6,
   "metadata": {
    "ExecuteTime": {
     "end_time": "2020-08-27T07:46:03.018684Z",
     "start_time": "2020-08-27T07:46:03.014114Z"
    }
   },
   "outputs": [
    {
     "data": {
      "text/plain": [
       "['C1', 'E1', 'F1', 'G2', 'H1']"
      ]
     },
     "execution_count": 6,
     "metadata": {},
     "output_type": "execute_result"
    }
   ],
   "source": [
    "train_samples = train_df['sample_id'].unique().tolist()\n",
    "train_samples"
   ]
  },
  {
   "cell_type": "markdown",
   "metadata": {},
   "source": [
    "***"
   ]
  },
  {
   "cell_type": "markdown",
   "metadata": {},
   "source": [
    "### Process data features"
   ]
  },
  {
   "cell_type": "markdown",
   "metadata": {},
   "source": [
    "For the model to work, the features needs to be in the correct format (binarized and/or numerical). Only the expression data will be used to train the model, so all other columns need to be dropped. The \"sample_id\" feature will be used to perform the CV, while the \"label_cancer\" is our labels to fit the model to. The spot related features are only needed for plotting the data spatially and has not other purpose in this project."
   ]
  },
  {
   "cell_type": "markdown",
   "metadata": {},
   "source": [
    "**Encode 'sample_id' features**"
   ]
  },
  {
   "cell_type": "code",
   "execution_count": 14,
   "metadata": {
    "ExecuteTime": {
     "end_time": "2020-08-27T08:17:41.506345Z",
     "start_time": "2020-08-27T08:17:41.501505Z"
    }
   },
   "outputs": [
    {
     "data": {
      "text/plain": [
       "['C1', 'E1', 'F1', 'G2', 'H1']"
      ]
     },
     "execution_count": 14,
     "metadata": {},
     "output_type": "execute_result"
    }
   ],
   "source": [
    "le = preprocessing.LabelEncoder()\n",
    "le.fit(train_df['sample_id'])\n",
    "list(le.classes_)"
   ]
  },
  {
   "cell_type": "code",
   "execution_count": 15,
   "metadata": {
    "ExecuteTime": {
     "end_time": "2020-08-27T08:18:04.635213Z",
     "start_time": "2020-08-27T08:18:04.630262Z"
    }
   },
   "outputs": [],
   "source": [
    "train_df['sample_id_num'] = le.transform(train_df['sample_id'])"
   ]
  },
  {
   "cell_type": "code",
   "execution_count": 19,
   "metadata": {
    "ExecuteTime": {
     "end_time": "2020-08-27T08:18:39.623807Z",
     "start_time": "2020-08-27T08:18:39.621259Z"
    },
    "scrolled": true
   },
   "outputs": [],
   "source": [
    "#list(le.inverse_transform(le.transform(train_df['sample_id'])))"
   ]
  },
  {
   "cell_type": "markdown",
   "metadata": {},
   "source": [
    "**Encode label (y)**  \n",
    "First the cancer label is binarized to 0, 1 and then I adjust the label so that healthy (baseline) is 0 and cancer is 1."
   ]
  },
  {
   "cell_type": "code",
   "execution_count": 20,
   "metadata": {
    "ExecuteTime": {
     "end_time": "2020-08-27T08:19:23.258541Z",
     "start_time": "2020-08-27T08:19:23.253225Z"
    }
   },
   "outputs": [
    {
     "data": {
      "text/plain": [
       "['cancer', 'healthy']"
      ]
     },
     "execution_count": 20,
     "metadata": {},
     "output_type": "execute_result"
    }
   ],
   "source": [
    "le = preprocessing.LabelEncoder()\n",
    "le.fit(train_df['label_cancer'])\n",
    "list(le.classes_)"
   ]
  },
  {
   "cell_type": "code",
   "execution_count": 38,
   "metadata": {
    "ExecuteTime": {
     "end_time": "2020-08-27T08:28:51.384536Z",
     "start_time": "2020-08-27T08:28:51.380327Z"
    }
   },
   "outputs": [],
   "source": [
    "train_df['label_bin'] = le.transform(train_df['label_cancer'])"
   ]
  },
  {
   "cell_type": "code",
   "execution_count": 40,
   "metadata": {
    "ExecuteTime": {
     "end_time": "2020-08-27T08:29:04.461666Z",
     "start_time": "2020-08-27T08:29:04.457496Z"
    }
   },
   "outputs": [],
   "source": [
    "train_df['label'] = np.abs(train_df['label_bin']-1)"
   ]
  },
  {
   "cell_type": "code",
   "execution_count": 47,
   "metadata": {
    "ExecuteTime": {
     "end_time": "2020-08-27T08:31:37.788553Z",
     "start_time": "2020-08-27T08:31:37.786361Z"
    }
   },
   "outputs": [],
   "source": [
    "#sns.countplot(x=\"label\", hue='sample_id_num', data=train_df).set_title(\"Tain data\")\n",
    "#plt.show();\n",
    "#sns.countplot(x=\"label_cancer\", hue='sample_id', data=train_df).set_title(\"Tain data\")\n",
    "#plt.show();"
   ]
  },
  {
   "cell_type": "markdown",
   "metadata": {},
   "source": [
    "**Identify X features**\n",
    "\n",
    "For training, only gene expression features will be used. Since we have expression data for more than 12000 genes, I will select only the most variable genes to train the model on in order to reduce the number of features and simply the model.\n",
    "\n",
    "This final training data will be allocated to *X*."
   ]
  },
  {
   "cell_type": "code",
   "execution_count": 59,
   "metadata": {
    "ExecuteTime": {
     "end_time": "2020-08-27T08:35:38.130594Z",
     "start_time": "2020-08-27T08:35:38.126056Z"
    }
   },
   "outputs": [
    {
     "data": {
      "text/plain": [
       "12699"
      ]
     },
     "execution_count": 59,
     "metadata": {},
     "output_type": "execute_result"
    }
   ],
   "source": [
    "len(train_df.columns)"
   ]
  },
  {
   "cell_type": "code",
   "execution_count": 58,
   "metadata": {
    "ExecuteTime": {
     "end_time": "2020-08-27T08:35:29.994999Z",
     "start_time": "2020-08-27T08:35:29.978639Z"
    }
   },
   "outputs": [
    {
     "name": "stdout",
     "output_type": "stream",
     "text": [
      "Index(['label_cancer', 'sample_id', 'spot_id', 'x', 'y', 'exp_sum', 'exp_mean',\n",
      "       'sample_id_num', 'label', 'label_bin'],\n",
      "      dtype='object')\n"
     ]
    },
    {
     "data": {
      "text/plain": [
       "12689"
      ]
     },
     "execution_count": 58,
     "metadata": {},
     "output_type": "execute_result"
    }
   ],
   "source": [
    "columns_remove = train_df.columns[-10:]\n",
    "print(columns_remove)\n",
    "columns_keep = train_df.columns.copy()\n",
    "columns_keep = [s for s in columns_keep if s not in columns_remove]\n",
    "len(columns_keep)"
   ]
  },
  {
   "cell_type": "code",
   "execution_count": 68,
   "metadata": {
    "ExecuteTime": {
     "end_time": "2020-08-27T08:37:37.768651Z",
     "start_time": "2020-08-27T08:37:36.936428Z"
    }
   },
   "outputs": [
    {
     "data": {
      "image/png": "[encoded data removed]",
      "text/plain": [
       "<Figure size 432x288 with 1 Axes>"
      ]
     },
     "metadata": {
      "needs_background": "light"
     },
     "output_type": "display_data"
    }
   ],
   "source": [
    "plt.hist(np.mean(train_df.loc[:,columns_keep]), bins=50);"
   ]
  },
  {
   "cell_type": "code",
   "execution_count": 69,
   "metadata": {
    "ExecuteTime": {
     "end_time": "2020-08-27T08:38:20.342367Z",
     "start_time": "2020-08-27T08:38:19.067296Z"
    }
   },
   "outputs": [
    {
     "data": {
      "image/png": "[encoded data removed]",
      "text/plain": [
       "<Figure size 432x288 with 1 Axes>"
      ]
     },
     "metadata": {
      "needs_background": "light"
     },
     "output_type": "display_data"
    }
   ],
   "source": [
    "plt.hist(np.var(train_df.loc[:,columns_keep]), bins=50);"
   ]
  },
  {
   "cell_type": "code",
   "execution_count": 84,
   "metadata": {
    "ExecuteTime": {
     "end_time": "2020-08-27T08:52:21.817221Z",
     "start_time": "2020-08-27T08:52:19.794115Z"
    }
   },
   "outputs": [],
   "source": [
    "var_001 = np.var(train_df.loc[:,columns_keep])>0.01\n",
    "var_002 = np.var(train_df.loc[:,columns_keep])>0.02"
   ]
  },
  {
   "cell_type": "code",
   "execution_count": 85,
   "metadata": {
    "ExecuteTime": {
     "end_time": "2020-08-27T08:52:22.381915Z",
     "start_time": "2020-08-27T08:52:22.377753Z"
    }
   },
   "outputs": [],
   "source": [
    "var_001_true = np.sum(var_001)\n",
    "var_001_false = len(var_001) - var_001_true\n",
    "var_002_true = np.sum(var_002)\n",
    "var_002_false = len(var_002) - var_002_true"
   ]
  },
  {
   "cell_type": "code",
   "execution_count": 86,
   "metadata": {
    "ExecuteTime": {
     "end_time": "2020-08-27T08:52:31.332087Z",
     "start_time": "2020-08-27T08:52:31.224098Z"
    }
   },
   "outputs": [
    {
     "data": {
      "image/png": "[encoded data removed]",
      "text/plain": [
       "<Figure size 432x288 with 1 Axes>"
      ]
     },
     "metadata": {
      "needs_background": "light"
     },
     "output_type": "display_data"
    }
   ],
   "source": [
    "plt.bar(['var>0.01', 'var<0.01', 'var>0.02', 'var<0.02'],\n",
    "        [var_001_true, var_001_false, var_002_true, var_002_false],\n",
    "        align='center')"
   ]
  },
  {
   "cell_type": "markdown",
   "metadata": {},
   "source": [
    "*To start off, I will select only the genes showing a variance greater than 0.02, as that limits the number of genes significantly.*"
   ]
  },
  {
   "cell_type": "markdown",
   "metadata": {},
   "source": [
    "**Create train set X**  \n",
    "Create a new train set with a reduced number of features, keeping only genes showing a variance across observations greater than 0.02."
   ]
  },
  {
   "cell_type": "code",
   "execution_count": 126,
   "metadata": {
    "ExecuteTime": {
     "end_time": "2020-08-27T11:48:13.205289Z",
     "start_time": "2020-08-27T11:48:12.872411Z"
    }
   },
   "outputs": [],
   "source": [
    "train_df_reduced = train_df.copy()\n",
    "train_df_reduced = train_df_reduced.loc[:, columns_keep]"
   ]
  },
  {
   "cell_type": "code",
   "execution_count": 138,
   "metadata": {
    "ExecuteTime": {
     "end_time": "2020-08-27T11:52:39.153379Z",
     "start_time": "2020-08-27T11:52:39.145669Z"
    }
   },
   "outputs": [
    {
     "name": "stdout",
     "output_type": "stream",
     "text": [
      "1517\n"
     ]
    },
    {
     "data": {
      "text/plain": [
       "['A2M', 'ABCA3', 'ABHD11', 'ABHD14B', 'ABL1', 'ABLIM1', 'ACADVL', 'ACAP3']"
      ]
     },
     "execution_count": 138,
     "metadata": {},
     "output_type": "execute_result"
    }
   ],
   "source": [
    "feat_train = np.array(columns_keep)[var_002.tolist()].tolist()\n",
    "print(len(feat_train))\n",
    "feat_train[:8]"
   ]
  },
  {
   "cell_type": "code",
   "execution_count": 128,
   "metadata": {
    "ExecuteTime": {
     "end_time": "2020-08-27T11:48:13.543923Z",
     "start_time": "2020-08-27T11:48:13.509748Z"
    }
   },
   "outputs": [
    {
     "data": {
      "text/plain": [
       "(2532, 1517)"
      ]
     },
     "execution_count": 128,
     "metadata": {},
     "output_type": "execute_result"
    }
   ],
   "source": [
    "train_df_reduced = train_df_reduced.iloc[:,var_002.tolist()]\n",
    "train_df_reduced.shape"
   ]
  },
  {
   "cell_type": "code",
   "execution_count": 129,
   "metadata": {
    "ExecuteTime": {
     "end_time": "2020-08-27T11:48:15.308560Z",
     "start_time": "2020-08-27T11:48:15.297186Z"
    }
   },
   "outputs": [],
   "source": [
    "X = np.array(train_df_reduced)"
   ]
  },
  {
   "cell_type": "markdown",
   "metadata": {
    "ExecuteTime": {
     "end_time": "2020-08-27T11:48:22.999985Z",
     "start_time": "2020-08-27T11:48:22.995713Z"
    }
   },
   "source": [
    "***"
   ]
  },
  {
   "cell_type": "markdown",
   "metadata": {},
   "source": [
    "## Fit models"
   ]
  },
  {
   "cell_type": "markdown",
   "metadata": {},
   "source": [
    "**Define classifiers**"
   ]
  },
  {
   "cell_type": "code",
   "execution_count": null,
   "metadata": {},
   "outputs": [],
   "source": [
    "clf_rf = RandomForestClassifier(n_estimators=100,\n",
    "                                max_depth=None,\n",
    "                                min_samples_split=2,\n",
    "                                n_jobs=4,\n",
    "                                random_state=None,\n",
    "                                verbose=0)"
   ]
  },
  {
   "cell_type": "code",
   "execution_count": null,
   "metadata": {},
   "outputs": [],
   "source": [
    "clf_svm = svm.SVC(gamma=0.001, C=100.)"
   ]
  },
  {
   "cell_type": "code",
   "execution_count": null,
   "metadata": {},
   "outputs": [],
   "source": []
  },
  {
   "cell_type": "code",
   "execution_count": null,
   "metadata": {},
   "outputs": [],
   "source": []
  },
  {
   "cell_type": "code",
   "execution_count": null,
   "metadata": {},
   "outputs": [],
   "source": []
  },
  {
   "cell_type": "markdown",
   "metadata": {},
   "source": [
    "## Model evaluation and comparison"
   ]
  },
  {
   "cell_type": "code",
   "execution_count": null,
   "metadata": {},
   "outputs": [],
   "source": []
  },
  {
   "cell_type": "code",
   "execution_count": null,
   "metadata": {},
   "outputs": [],
   "source": []
  },
  {
   "cell_type": "code",
   "execution_count": null,
   "metadata": {},
   "outputs": [],
   "source": []
  },
  {
   "cell_type": "code",
   "execution_count": null,
   "metadata": {},
   "outputs": [],
   "source": []
  },
  {
   "cell_type": "code",
   "execution_count": null,
   "metadata": {},
   "outputs": [],
   "source": []
  },
  {
   "cell_type": "code",
   "execution_count": null,
   "metadata": {},
   "outputs": [],
   "source": []
  },
  {
   "cell_type": "markdown",
   "metadata": {},
   "source": [
    "## Model selection"
   ]
  },
  {
   "cell_type": "code",
   "execution_count": null,
   "metadata": {},
   "outputs": [],
   "source": []
  },
  {
   "cell_type": "code",
   "execution_count": null,
   "metadata": {},
   "outputs": [],
   "source": []
  },
  {
   "cell_type": "code",
   "execution_count": null,
   "metadata": {},
   "outputs": [],
   "source": []
  },
  {
   "cell_type": "code",
   "execution_count": null,
   "metadata": {},
   "outputs": [],
   "source": []
  },
  {
   "cell_type": "code",
   "execution_count": null,
   "metadata": {},
   "outputs": [],
   "source": []
  },
  {
   "cell_type": "code",
   "execution_count": null,
   "metadata": {},
   "outputs": [],
   "source": []
  }
 ],
 "metadata": {
  "kernelspec": {
   "display_name": "ml20_project",
   "language": "python",
   "name": "ml20_project"
  },
  "language_info": {
   "codemirror_mode": {
    "name": "ipython",
    "version": 3
   },
   "file_extension": ".py",
   "mimetype": "text/x-python",
   "name": "python",
   "nbconvert_exporter": "python",
   "pygments_lexer": "ipython3",
   "version": "3.6.10"
  }
 },
 "nbformat": 4,
 "nbformat_minor": 2
}
